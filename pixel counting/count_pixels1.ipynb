{
 "cells": [
  {
   "cell_type": "code",
   "execution_count": 14,
   "id": "3f8b4f49-4854-4a41-b0ef-f96551538976",
   "metadata": {
    "tags": []
   },
   "outputs": [],
   "source": [
    "# this code loops thru all files and sheets of the image inventory and appends columns with the right pixel scores\n",
    "# call countPixels from count_pixels.py"
   ]
  },
  {
   "cell_type": "code",
   "execution_count": 5,
   "id": "2851c890-578c-42bb-bca0-0c89f08c3906",
   "metadata": {},
   "outputs": [
    {
     "name": "stdout",
     "output_type": "stream",
     "text": [
      "{'water': 40748, 'rocks': 22464}\n"
     ]
    }
   ],
   "source": [
    "# example of how to use function\n",
    "\n",
    "import importlib\n",
    "import count_pixels\n",
    "importlib.reload(count_pixels)\n",
    "from count_pixels import countPixels\n",
    "\n",
    "texts = [\"water\", \"rocks\"]\n",
    "image_path = \"../images/Deployment 1 (1000, M1)/100MEDIA/DSCF0069.JPG\"\n",
    "\n",
    "output = countPixels(texts, image_path)\n",
    "\n",
    "print(output)"
   ]
  },
  {
   "cell_type": "code",
   "execution_count": null,
   "id": "1cbe1283-ed72-49d2-8d27-aa297f07cc1d",
   "metadata": {},
   "outputs": [],
   "source": []
  }
 ],
 "metadata": {
  "kernelspec": {
   "display_name": "StreamFlowEnv",
   "language": "python",
   "name": "streamflow-env"
  },
  "language_info": {
   "codemirror_mode": {
    "name": "ipython",
    "version": 3
   },
   "file_extension": ".py",
   "mimetype": "text/x-python",
   "name": "python",
   "nbconvert_exporter": "python",
   "pygments_lexer": "ipython3",
   "version": "3.13.5"
  }
 },
 "nbformat": 4,
 "nbformat_minor": 5
}

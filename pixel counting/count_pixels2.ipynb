{
 "cells": [
  {
   "cell_type": "code",
   "execution_count": null,
   "id": "8dd241f5-41d8-47d9-adab-fe0ea5b490ed",
   "metadata": {
    "tags": []
   },
   "outputs": [
    {
     "name": "stderr",
     "output_type": "stream",
     "text": [
      "/home/jans26/.conda/envs/streamflow-env/lib/python3.13/site-packages/tqdm/auto.py:21: TqdmWarning: IProgress not found. Please update jupyter and ipywidgets. See https://ipywidgets.readthedocs.io/en/stable/user_install.html\n",
      "  from .autonotebook import tqdm as notebook_tqdm\n",
      "Using a slow image processor as `use_fast` is unset and a slow processor was saved with this model. `use_fast=True` will be the default behavior in v4.52, even if the model was saved with a slow processor. This will result in minor differences in outputs. You'll still be able to use a slow processor with `use_fast=False`.\n",
      "  0%|          | 0/7 [00:00<?, ?it/s]/home/jans26/.conda/envs/streamflow-env/lib/python3.13/site-packages/transformers/image_processing_utils.py:44: UserWarning: The following named arguments are not valid for `ViTImageProcessor.preprocess` and were ignored: 'padding'\n",
      "  return self.preprocess(images, **kwargs)\n"
     ]
    }
   ],
   "source": [
    "# this code explores how to add scores to the sheets\n",
    "\n",
    "import random\n",
    "from tqdm import tqdm\n",
    "from openpyxl import load_workbook\n",
    "import importlib\n",
    "import count_pixels\n",
    "importlib.reload(count_pixels)\n",
    "from count_pixels import countPixels\n",
    "\n",
    "def make_path(path):\n",
    "    path = path.replace('D:', '/mnt/lustre/koa/scratch/jans26/streamflow/images', 1)\n",
    "    path = path.replace('\\\\', '/')\n",
    "    return path\n",
    "\n",
    "# here goes the loop and getting the image and scores logic\n",
    "file_paths = [r'/mnt/lustre/koa/scratch/jans26/streamflow/data/image_inventory_cam_1000.xlsx',\n",
    "              r'/mnt/lustre/koa/scratch/jans26/streamflow/data/image_inventory_cam_1001.xlsx',\n",
    "              r'/mnt/lustre/koa/scratch/jans26/streamflow/data/image_inventory_cam_1002.xlsx',\n",
    "              r'/mnt/lustre/koa/scratch/jans26/streamflow/data/image_inventory_cam_1003.xlsx',\n",
    "              r'/mnt/lustre/koa/scratch/jans26/streamflow/data/image_inventory_cam_1004.xlsx',\n",
    "              r'/mnt/lustre/koa/scratch/jans26/streamflow/data/image_inventory_cam_1005.xlsx',\n",
    "              r'/mnt/lustre/koa/scratch/jans26/streamflow/data/image_inventory_cam_1006.xlsx'\n",
    "             ]\n",
    "sheet_names = ['Label_1', 'Label_2', 'Label_3', 'Label_4', 'Label_5', 'Label_6']\n",
    "prompts = ['water', 'rocks', 'river', 'riverbed', 'turbulences', 'stream', 'water rush', 'flowing water', 'glossy', 'dry rocks', 'wet', 'wet rocks', 'water surface', 'streamflow']\n",
    "\n",
    "\n",
    "for file_path in tqdm(file_paths):\n",
    "    wb = load_workbook(file_path)\n",
    "    \n",
    "    for sheet_name in sheet_names:\n",
    "        ws = wb[sheet_name]\n",
    "        num_rows = ws.max_row\n",
    "        # === MAP EXISTING HEADERS ===\n",
    "        header_map = {}  # column title → column index\n",
    "        for col in range(1, ws.max_column + 1):\n",
    "            header = ws.cell(row=1, column=col).value\n",
    "            if header:\n",
    "                header_map[header] = col\n",
    "                \n",
    "        for row_index in range(2, num_rows + 1):\n",
    "            image_path = make_path(ws.cell(row=row_index, column=5).value)\n",
    "            scores = countPixels(prompts, image_path)\n",
    "            current_max_col = ws.max_column\n",
    "            for prompt, score in scores.items():\n",
    "                if prompt in header_map:\n",
    "                    col_idx = header_map[prompt]\n",
    "                else:\n",
    "                    current_max_col += 1\n",
    "                    col_idx = current_max_col\n",
    "                    ws.cell(row=1, column=col_idx).value = prompt\n",
    "                    header_map[prompt] = col_idx\n",
    "                    \n",
    "                ws.cell(row=row_index, column=col_idx).value = score\n",
    "        \n",
    "    wb.save(file_path)"
   ]
  },
  {
   "cell_type": "code",
   "execution_count": 5,
   "id": "d3137a56-2eae-4e04-92c0-371ebab547e4",
   "metadata": {
    "tags": []
   },
   "outputs": [
    {
     "name": "stdout",
     "output_type": "stream",
     "text": [
      "/mnt/lustre/koa/scratch/jans26/streamflow/pixel_counting/code\n"
     ]
    }
   ],
   "source": [
    "import os\n",
    "print(os.getcwd())\n"
   ]
  }
 ],
 "metadata": {
  "kernelspec": {
   "display_name": "StreamFlowEnv",
   "language": "python",
   "name": "streamflow-env"
  },
  "language_info": {
   "codemirror_mode": {
    "name": "ipython",
    "version": 3
   },
   "file_extension": ".py",
   "mimetype": "text/x-python",
   "name": "python",
   "nbconvert_exporter": "python",
   "pygments_lexer": "ipython3",
   "version": "3.13.5"
  }
 },
 "nbformat": 4,
 "nbformat_minor": 5
}
